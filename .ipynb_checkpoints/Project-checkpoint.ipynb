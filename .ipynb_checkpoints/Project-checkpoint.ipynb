{
 "cells": [
  {
   "cell_type": "code",
   "execution_count": 86,
   "metadata": {},
   "outputs": [],
   "source": [
    "#Project: The program takes in the data processed by DataCollection\n",
    "#and performs the calculations necessary to predict a winner\n",
    "#CSE 482 Term Project\n",
    "#Ian Murray\n",
    "#Keaton Coffman\n",
    "\n",
    "#---Static Details---\n",
    "import pandas as p\n",
    "\n",
    "baseWinChance = 0.50 #The default chance a team has to win\n",
    "homeCourtAdvantage = 0.05 #The % advantage the home team gets\n",
    "PPPOffenseScale = 1.5 #Weight for offensive prowess\n",
    "PPPDefenseScale = 1.5 #Weight for defensive tenacity\n",
    "WinRecordScale = 0.25 #Weight for win/loss reocord\n",
    "ScoreScale = 0.25 #Weight for how much score deviates from % win chance"
   ]
  },
  {
   "cell_type": "code",
   "execution_count": 89,
   "metadata": {},
   "outputs": [],
   "source": [
    "#---Format input data into one DataFrame---\n",
    "\n",
    "#Read in offensive, defensive, strength-of-schedule data for each team\n",
    "record = p.read_csv(\"SOS.csv\", header=\"infer\")\n",
    "dataOffense = p.read_csv(\"offense.csv\", header = \"infer\")\n",
    "dataDefense = p.read_csv(\"defense.csv\", header = \"infer\")\n",
    "\n",
    "#Merge the three previous DataFrames for each team\n",
    "data = p.merge(dataOffense, dataDefense, on='Team')\n",
    "data = p.merge(data, record, on='Team')\n",
    "\n",
    "#Drop 'League Average' and index data by team, not arbitrary rank\n",
    "data = data[data[\"Team\"] != \"League Average\"]\n",
    "data.set_index(\"Team\", inplace = True)"
   ]
  },
  {
   "cell_type": "code",
   "execution_count": 90,
   "metadata": {
    "scrolled": false
   },
   "outputs": [
    {
     "name": "stdout",
     "output_type": "stream",
     "text": [
      "Home: Los Angeles Lakers, Score: 111\n",
      "Away: Orlando Magic, Score: 106\n",
      "Los Angeles Lakers Win Odds: 47.0%\n",
      "\n",
      "Home: Detroit Pistons, Score: 108\n",
      "Away: Phoenix Suns, Score: 107\n",
      "Detroit Pistons Win Odds: 35.0%\n",
      "\n",
      "Home: Memphis Grizzlies, Score: 109\n",
      "Away: New York Knicks, Score: 104\n",
      "Memphis Grizzlies Win Odds: 68.0%\n",
      "\n",
      "Home: Brooklyn Nets, Score: 104\n",
      "Away: Philadelphia 76ers, Score: 118\n",
      "Brooklyn Nets Win Odds: 35.0%\n",
      "\n",
      "Home: Toronto Raptors, Score: 121\n",
      "Away: Miami Heat, Score: 104\n",
      "Toronto Raptors Win Odds: 63.0%\n",
      "\n",
      "Home: Atlanta Hawks, Score: 105\n",
      "Away: Charlotte Hornets, Score: 115\n",
      "Atlanta Hawks Win Odds: 46.0%\n",
      "\n",
      "Home: Sacramento Kings, Score: 114\n",
      "Away: Utah Jazz, Score: 105\n",
      "Sacramento Kings Win Odds: 52.0%\n",
      "\n",
      "Home: Portland Trail Blazers, Score: 111\n",
      "Away: Los Angeles Clippers, Score: 118\n",
      "Portland Trail Blazers Win Odds: 47.0%\n",
      "\n"
     ]
    }
   ],
   "source": [
    "#---Perform Calculations---\n",
    "#home = [\"Los Angeles Lakers\", \"Detroit Pistons\", \"Memphis Grizzlies\", \"Brooklyn Nets\", \"Toronto Raptors\", \"Atlanta Hawks\", \"Sacramento Kings\", \"Portland Trail Blazers\"]\n",
    "#away = [\"Orlando Magic\", \"Phoenix Suns\", \"New York Knicks\", \"Philadelphia 76ers\", \"Miami Heat\", \"Charlotte Hornets\", \"Utah Jazz\", \"Los Angeles Clippers\"]\n",
    "\n",
    "home = [\"Los Angeles Lakers\", \"Detroit Pistons\", \"Memphis Grizzlies\", \"Brooklyn Nets\", \"Toronto Raptors\", \"Atlanta Hawks\", \"Sacramento Kings\", \"Portland Trail Blazers\"]\n",
    "away = [\"Orlando Magic\", \"Phoenix Suns\", \"New York Knicks\", \"Philadelphia 76ers\", \"Miami Heat\", \"Charlotte Hornets\", \"Utah Jazz\", \"Los Angeles Clippers\"]\n",
    "\n",
    "for k in range(0, len(home)):\n",
    "    #Calculate win chances for each team.\n",
    "    winChanceHome = baseWinChance + homeCourtAdvantage\n",
    "    winChanceHome += PPPOffenseScale * (float(data.loc[home[k]][\"PPPOffense\"]) - float(data.loc[away[k]][\"PPPOffense\"]))\n",
    "    winChanceHome += PPPDefenseScale * ((1 / float(data.loc[home[k]][\"PPPDefense\"])) - (1 / float(data.loc[away[k]][\"PPPDefense\"])))\n",
    "    winChanceHome += WinRecordScale * ((data.loc[home[k]]['WLRatio'] * data.loc[home[k]]['SOS']) - (data.loc[away[k]]['WLRatio'] * data.loc[away[k]]['SOS']))\n",
    "    winChanceAway = 1 - winChanceHome\n",
    "\n",
    "    #Calculate predicted score\n",
    "    homeScore = int(data.loc[home[k]][\"PPG\"] * (1 - (ScoreScale * (baseWinChance - winChanceHome))))\n",
    "    awayScore = int(data.loc[away[k]][\"PPG\"] * (1 - (ScoreScale * (baseWinChance - winChanceAway))))\n",
    "\n",
    "    #Convert and set percentage boundaries for edge cases\n",
    "    winChanceHome *= 100\n",
    "    if winChanceHome > 100:\n",
    "        winChanceHome = 100\n",
    "    if winChanceHome < 0:\n",
    "        winChanceHome = 0\n",
    "    if homeScore == awayScore:\n",
    "        homeScore += 1\n",
    "\n",
    "    #Output\n",
    "    print(\"Home: \" + home[k] + \", Score: \" + str(homeScore) +\n",
    "          \"\\nAway: \" + away[k] + \", Score: \" + str(awayScore) + \n",
    "          \"\\n\" + home[k] + \" Win Odds: \" + str(round(winChanceHome)) + \"%\\n\")"
   ]
  },
  {
   "cell_type": "code",
   "execution_count": null,
   "metadata": {},
   "outputs": [],
   "source": []
  }
 ],
 "metadata": {
  "kernelspec": {
   "display_name": "Python 3",
   "language": "python",
   "name": "python3"
  },
  "language_info": {
   "codemirror_mode": {
    "name": "ipython",
    "version": 3
   },
   "file_extension": ".py",
   "mimetype": "text/x-python",
   "name": "python",
   "nbconvert_exporter": "python",
   "pygments_lexer": "ipython3",
   "version": "3.7.1"
  },
  "widgets": {
   "application/vnd.jupyter.widget-state+json": {
    "state": {},
    "version_major": 2,
    "version_minor": 0
   }
  }
 },
 "nbformat": 4,
 "nbformat_minor": 2
}
