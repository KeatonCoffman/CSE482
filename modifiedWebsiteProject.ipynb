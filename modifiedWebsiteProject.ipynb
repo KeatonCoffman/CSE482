{
 "cells": [
  {
   "cell_type": "code",
   "execution_count": 2,
   "metadata": {},
   "outputs": [],
   "source": [
    "#Project: The program takes in the data processed by DataCollection\n",
    "#and performs the calculations necessary to predict a winner\n",
    "#CSE 482 Term Project\n",
    "#Ian Murray\n",
    "#Keaton Coffman\n",
    "\n",
    "#---Static Details---\n",
    "import pandas as p\n",
    "import ipywidgets as widgets\n",
    "\n",
    "baseWinChance = 0.50 #The default chance a team has to win\n",
    "homeCourtAdvantage = 0.05 #The % advantage the home team gets\n",
    "PPPOffenseScale = 1.5 #Weight for offensive prowess\n",
    "PPPDefenseScale = 1.5 #Weight for defensive tenacity\n",
    "WinRecordScale = 0.25 #Weight for win/loss reocord\n",
    "ScoreScale = 0.25 #Weight for how much score deviates from % win chance"
   ]
  },
  {
   "cell_type": "code",
   "execution_count": 3,
   "metadata": {},
   "outputs": [],
   "source": [
    "#---Format input data into one DataFrame---\n",
    "\n",
    "#Read in offensive, defensive, strength-of-schedule data for each team\n",
    "record = p.read_csv(\"SOS.csv\", header=\"infer\")\n",
    "dataOffense = p.read_csv(\"offense.csv\", header = \"infer\")\n",
    "dataDefense = p.read_csv(\"defense.csv\", header = \"infer\")\n",
    "\n",
    "#Merge the three previous DataFrames for each team\n",
    "data = p.merge(dataOffense, dataDefense, on='Team')\n",
    "data = p.merge(data, record, on='Team')\n",
    "\n",
    "#Drop 'League Average' and index data by team, not arbitrary rank\n",
    "data = data[data[\"Team\"] != \"League Average\"]\n",
    "data.set_index(\"Team\", inplace = True)"
   ]
  },
  {
   "cell_type": "code",
   "execution_count": 7,
   "metadata": {
    "scrolled": false
   },
   "outputs": [
    {
     "data": {
      "application/vnd.jupyter.widget-view+json": {
       "model_id": "47134e85426b4cbe8b7684cc742d7f3a",
       "version_major": 2,
       "version_minor": 0
      },
      "text/plain": [
       "Dropdown(description='Home Team', index=8, options=('Atlanta Hawks', 'Boston Celtics', 'Brooklyn Nets', 'Charl…"
      ]
     },
     "metadata": {},
     "output_type": "display_data"
    },
    {
     "data": {
      "application/vnd.jupyter.widget-view+json": {
       "model_id": "111f7a6b7dbb4a43bd9b5cc2e9ac331c",
       "version_major": 2,
       "version_minor": 0
      },
      "text/plain": [
       "Dropdown(description='Away Team', index=21, options=('Atlanta Hawks', 'Boston Celtics', 'Brooklyn Nets', 'Char…"
      ]
     },
     "metadata": {},
     "output_type": "display_data"
    }
   ],
   "source": [
    "#---Perform Calculations---\n",
    "#home = [\"Los Angeles Lakers\", \"Detroit Pistons\", \"Memphis Grizzlies\", \"Brooklyn Nets\", \"Toronto Raptors\", \"Atlanta Hawks\", \"Sacramento Kings\", \"Portland Trail Blazers\"]\n",
    "#away = [\"Orlando Magic\", \"Phoenix Suns\", \"New York Knicks\", \"Philadelphia 76ers\", \"Miami Heat\", \"Charlotte Hornets\", \"Utah Jazz\", \"Los Angeles Clippers\"]\n",
    "import ipywidgets as widgets\n",
    "from ipywidgets import Dropdown\n",
    "from IPython.display import clear_output\n",
    "\n",
    "#home = [\"Los Angeles Lakers\", \"Detroit Pistons\", \"Memphis Grizzlies\", \"Brooklyn Nets\", \"Toronto Raptors\", \"Atlanta Hawks\", \"Sacramento Kings\", \"Portland Trail Blazers\"]\n",
    "#away = [\"Orlando Magic\", \"Phoenix Suns\", \"New York Knicks\", \"Philadelphia 76ers\", \"Miami Heat\", \"Charlotte Hornets\", \"Utah Jazz\", \"Los Angeles Clippers\"]\n",
    "home ='Detroit Pistons'\n",
    "away ='Orlando Magic'\n",
    "\n",
    "teams= ['Atlanta Hawks','Boston Celtics','Cleveland Cavaliers',\n",
    "            'New Orleans Pelicans','Chicago Bulls','Dallas Mavericks',\n",
    "            'Denver Nuggets','Golden State Warriors','Houston Rockets',\n",
    "            'Los Angeles Clippers','Los Angeles Lakers','Miami Heat',\n",
    "            'Milwaukee Bucks', 'Minnesota Timberwolves','Brooklyn Nets',\n",
    "            'New York Knicks', 'Orlando Magic', 'Indiana Pacers',\n",
    "            'Philadelphia 76ers','Phoenix Suns','Portland Trail Blazers',\n",
    "            'Sacramento Kings','San Antonio Spurs','Oklahoma City Thunder',\n",
    "            'Toronto Raptors','Utah Jazz', 'Memphis Grizzlies',\n",
    "            'Washington Wizards','Detroit Pistons','Charlotte Hornets']\n",
    "\n",
    "teams.sort()\n",
    "\n",
    "w = widgets.Dropdown(\n",
    "    options= teams,\n",
    "    value='Detroit Pistons',\n",
    "    description='Home Team',\n",
    "    disabled=False,\n",
    ")\n",
    "\n",
    "\n",
    "y = widgets.Dropdown(\n",
    "    options=teams,\n",
    "    value='Orlando Magic',\n",
    "    description='Away Team',\n",
    "    disabled=False,\n",
    ")\n",
    "\n",
    "display(w)\n",
    "display(y)\n",
    "\n",
    "def handle_change(change):\n",
    "    home = w.value\n",
    "    away =  y.value\n",
    "    display_results(home,away)\n",
    "\n",
    "\n",
    "def display_results(home, away):\n",
    "#for k in range(0, len(home)):\n",
    "    #Calculate win chances for each team.\n",
    "    clear_output(wait=True)\n",
    "    home = home\n",
    "    away = away\n",
    "    winChanceHome = baseWinChance + homeCourtAdvantage\n",
    "    winChanceHome += PPPOffenseScale * (float(data.loc[home][\"PPPOffense\"]) - float(data.loc[away][\"PPPOffense\"]))\n",
    "    winChanceHome += PPPDefenseScale * ((1 / float(data.loc[home][\"PPPDefense\"])) - (1 / float(data.loc[away][\"PPPDefense\"])))\n",
    "    winChanceHome += WinRecordScale * ((data.loc[home]['WLRatio'] * data.loc[home]['SOS']) - (data.loc[away]['WLRatio'] * data.loc[away]['SOS']))\n",
    "    winChanceAway = 1 - winChanceHome\n",
    "\n",
    "    #Calculate predicted score\n",
    "    homeScore = int(data.loc[home][\"PPG\"] * (1 - (ScoreScale * (baseWinChance - winChanceHome))))\n",
    "    awayScore = int(data.loc[away][\"PPG\"] * (1 - (ScoreScale * (baseWinChance - winChanceAway))))\n",
    "\n",
    "    #Convert and set percentage boundaries for edge cases\n",
    "    winChanceHome *= 100\n",
    "    if winChanceHome > 100:\n",
    "        winChanceHome = 100\n",
    "    if winChanceHome < 0:\n",
    "        winChanceHome = 0\n",
    "    if homeScore == awayScore:\n",
    "        homeScore += 1\n",
    "    display(w)\n",
    "    display(y)\n",
    "    #Output\n",
    "    return print(\"Home: \" + home + \", Score: \" + str(homeScore) +\n",
    "          \"\\nAway: \" + away + \", Score: \" + str(awayScore) + \n",
    "          \"\\n\" + home + \" Win Odds: \" + str(round(winChanceHome)) + \"%\\n\")\n",
    "\n",
    "w.observe(handle_change,names=\"value\")\n",
    "y.observe(handle_change,names=\"value\")"
   ]
  }
 ],
 "metadata": {
  "kernelspec": {
   "display_name": "Python 3",
   "language": "python",
   "name": "python3"
  },
  "language_info": {
   "codemirror_mode": {
    "name": "ipython",
    "version": 3
   },
   "file_extension": ".py",
   "mimetype": "text/x-python",
   "name": "python",
   "nbconvert_exporter": "python",
   "pygments_lexer": "ipython3",
   "version": "3.7.1"
  },
  "widgets": {
   "application/vnd.jupyter.widget-state+json": {
    "state": {},
    "version_major": 2,
    "version_minor": 0
   }
  }
 },
 "nbformat": 4,
 "nbformat_minor": 2
}
